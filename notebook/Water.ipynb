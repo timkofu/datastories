{
 "cells": [
  {
   "cell_type": "markdown",
   "id": "5eadebe4-5d64-47e7-ab35-39e37fbe8a90",
   "metadata": {},
   "source": [
    "# Water\n",
    "\n",
    "Data source: https://data.apps.fao.org/aquastat\n",
    "\n",
    "When: 2025-03-17"
   ]
  },
  {
   "cell_type": "code",
   "execution_count": 1,
   "id": "27b4b2a5-bc6c-42bc-9b52-ff9167fd770b",
   "metadata": {},
   "outputs": [],
   "source": [
    "import pandas as pd"
   ]
  },
  {
   "cell_type": "code",
   "execution_count": 2,
   "id": "23c7615c-c4aa-46d2-a6c0-2bd4dd4fbbbc",
   "metadata": {},
   "outputs": [],
   "source": [
    "data = pd.read_csv(filepath_or_buffer=\".data/Water_2025-03-17.csv.xz\", compression=\"xz\")"
   ]
  },
  {
   "cell_type": "code",
   "execution_count": 3,
   "id": "ef0d2727-0ae1-474d-9df8-1a4730eb0add",
   "metadata": {},
   "outputs": [
    {
     "data": {
      "text/html": [
       "<div>\n",
       "<style scoped>\n",
       "    .dataframe tbody tr th:only-of-type {\n",
       "        vertical-align: middle;\n",
       "    }\n",
       "\n",
       "    .dataframe tbody tr th {\n",
       "        vertical-align: top;\n",
       "    }\n",
       "\n",
       "    .dataframe thead th {\n",
       "        text-align: right;\n",
       "    }\n",
       "</style>\n",
       "<table border=\"1\" class=\"dataframe\">\n",
       "  <thead>\n",
       "    <tr style=\"text-align: right;\">\n",
       "      <th></th>\n",
       "      <th>Unnamed: 0</th>\n",
       "      <th>Country</th>\n",
       "      <th>M49</th>\n",
       "      <th>Variable</th>\n",
       "      <th>Year</th>\n",
       "      <th>Unit</th>\n",
       "      <th>Symbol</th>\n",
       "      <th>Symbol Description</th>\n",
       "      <th>Value</th>\n",
       "    </tr>\n",
       "  </thead>\n",
       "  <tbody>\n",
       "    <tr>\n",
       "      <th>0</th>\n",
       "      <td>0</td>\n",
       "      <td>Philippines</td>\n",
       "      <td>608</td>\n",
       "      <td>Exploitable: regular renewable groundwater</td>\n",
       "      <td>1999</td>\n",
       "      <td>NaN</td>\n",
       "      <td>I</td>\n",
       "      <td>Imputed (carry forward, vertical imputation, l...</td>\n",
       "      <td>20.200000</td>\n",
       "    </tr>\n",
       "    <tr>\n",
       "      <th>1</th>\n",
       "      <td>1</td>\n",
       "      <td>Seychelles</td>\n",
       "      <td>690</td>\n",
       "      <td>Total dam capacity</td>\n",
       "      <td>1999</td>\n",
       "      <td>NaN</td>\n",
       "      <td>I</td>\n",
       "      <td>Imputed (carry forward, vertical imputation, l...</td>\n",
       "      <td>0.001000</td>\n",
       "    </tr>\n",
       "    <tr>\n",
       "      <th>2</th>\n",
       "      <td>2</td>\n",
       "      <td>Malta</td>\n",
       "      <td>470</td>\n",
       "      <td>Total dam capacity</td>\n",
       "      <td>1999</td>\n",
       "      <td>NaN</td>\n",
       "      <td>I</td>\n",
       "      <td>Imputed (carry forward, vertical imputation, l...</td>\n",
       "      <td>0.000000</td>\n",
       "    </tr>\n",
       "    <tr>\n",
       "      <th>3</th>\n",
       "      <td>3</td>\n",
       "      <td>China</td>\n",
       "      <td>156</td>\n",
       "      <td>Agricultural water withdrawal</td>\n",
       "      <td>1999</td>\n",
       "      <td>NaN</td>\n",
       "      <td>I</td>\n",
       "      <td>Imputed (carry forward, vertical imputation, l...</td>\n",
       "      <td>382.585714</td>\n",
       "    </tr>\n",
       "    <tr>\n",
       "      <th>4</th>\n",
       "      <td>4</td>\n",
       "      <td>Congo</td>\n",
       "      <td>178</td>\n",
       "      <td>Agricultural water withdrawal</td>\n",
       "      <td>1999</td>\n",
       "      <td>NaN</td>\n",
       "      <td>I</td>\n",
       "      <td>Imputed (carry forward, vertical imputation, l...</td>\n",
       "      <td>0.004031</td>\n",
       "    </tr>\n",
       "  </tbody>\n",
       "</table>\n",
       "</div>"
      ],
      "text/plain": [
       "   Unnamed: 0      Country  M49                                    Variable  \\\n",
       "0           0  Philippines  608  Exploitable: regular renewable groundwater   \n",
       "1           1   Seychelles  690                          Total dam capacity   \n",
       "2           2        Malta  470                          Total dam capacity   \n",
       "3           3        China  156               Agricultural water withdrawal   \n",
       "4           4        Congo  178               Agricultural water withdrawal   \n",
       "\n",
       "   Year  Unit Symbol                                 Symbol Description  \\\n",
       "0  1999   NaN      I  Imputed (carry forward, vertical imputation, l...   \n",
       "1  1999   NaN      I  Imputed (carry forward, vertical imputation, l...   \n",
       "2  1999   NaN      I  Imputed (carry forward, vertical imputation, l...   \n",
       "3  1999   NaN      I  Imputed (carry forward, vertical imputation, l...   \n",
       "4  1999   NaN      I  Imputed (carry forward, vertical imputation, l...   \n",
       "\n",
       "        Value  \n",
       "0   20.200000  \n",
       "1    0.001000  \n",
       "2    0.000000  \n",
       "3  382.585714  \n",
       "4    0.004031  "
      ]
     },
     "execution_count": 3,
     "metadata": {},
     "output_type": "execute_result"
    }
   ],
   "source": [
    "data.head()"
   ]
  },
  {
   "cell_type": "code",
   "execution_count": null,
   "id": "f7fd884b-4982-4aff-a5c2-8832bff5db11",
   "metadata": {},
   "outputs": [],
   "source": []
  }
 ],
 "metadata": {
  "kernelspec": {
   "display_name": "Python 3 (ipykernel)",
   "language": "python",
   "name": "python3"
  },
  "language_info": {
   "codemirror_mode": {
    "name": "ipython",
    "version": 3
   },
   "file_extension": ".py",
   "mimetype": "text/x-python",
   "name": "python",
   "nbconvert_exporter": "python",
   "pygments_lexer": "ipython3",
   "version": "3.13.2"
  }
 },
 "nbformat": 4,
 "nbformat_minor": 5
}
